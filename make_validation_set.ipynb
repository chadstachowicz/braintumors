{
 "cells": [
  {
   "cell_type": "code",
   "execution_count": 3,
   "metadata": {},
   "outputs": [],
   "source": [
    "import os\n",
    "import shutil\n",
    "import random\n",
    "\n",
    "# Paths\n",
    "testing_folder = \"archive/Training\"  # Replace with your Testing folder path\n",
    "validation_folder = \"archive/Validation\"  # New folder for validation data\n",
    "\n",
    "# Create Validation folder if it doesn't exist\n",
    "if not os.path.exists(validation_folder):\n",
    "    os.makedirs(validation_folder)\n",
    "\n",
    "validation_split = 0.2  # 20% of data goes to Validation"
   ]
  },
  {
   "cell_type": "code",
   "execution_count": 4,
   "metadata": {},
   "outputs": [
    {
     "name": "stdout",
     "output_type": "stream",
     "text": [
      "Data split completed. Images have been moved to Testing and Validation folders.\n"
     ]
    }
   ],
   "source": [
    "for class_name in os.listdir(testing_folder):\n",
    "    class_path = os.path.join(testing_folder, class_name)\n",
    "    \n",
    "    # Ensure it's a directory (in case there are non-folder files)\n",
    "    if os.path.isdir(class_path):\n",
    "        # Create a corresponding class folder in the Validation directory\n",
    "        validation_class_path = os.path.join(validation_folder, class_name)\n",
    "        if not os.path.exists(validation_class_path):\n",
    "            os.makedirs(validation_class_path)\n",
    "        \n",
    "        # List all images in the class folder\n",
    "        images = os.listdir(class_path)\n",
    "        random.shuffle(images)  # Shuffle for randomness\n",
    "        \n",
    "        # Calculate the split point\n",
    "        num_validation = int(len(images) * validation_split)\n",
    "        \n",
    "        # Move the first `num_validation` images to the Validation folder\n",
    "        for image in images[:num_validation]:\n",
    "            source = os.path.join(class_path, image)\n",
    "            destination = os.path.join(validation_class_path, image)\n",
    "            shutil.move(source, destination)\n",
    "            \n",
    "print(\"Data split completed. Images have been moved to Testing and Validation folders.\")"
   ]
  },
  {
   "cell_type": "code",
   "execution_count": 6,
   "metadata": {},
   "outputs": [
    {
     "name": "stdout",
     "output_type": "stream",
     "text": [
      "Defaulting to user installation because normal site-packages is not writeable\n",
      "\u001b[31mERROR: Could not find a version that satisfies the requirement triton==2.1.0 (from versions: none)\u001b[0m\n",
      "\u001b[31mERROR: No matching distribution found for triton==2.1.0\u001b[0m\n",
      "\u001b[33mWARNING: You are using pip version 21.2.4; however, version 24.3.1 is available.\n",
      "You should consider upgrading via the '/Library/Developer/CommandLineTools/usr/bin/python3 -m pip install --upgrade pip' command.\u001b[0m\n",
      "Note: you may need to restart the kernel to use updated packages.\n"
     ]
    }
   ],
   "source": []
  }
 ],
 "metadata": {
  "kernelspec": {
   "display_name": "Python 3",
   "language": "python",
   "name": "python3"
  },
  "language_info": {
   "codemirror_mode": {
    "name": "ipython",
    "version": 3
   },
   "file_extension": ".py",
   "mimetype": "text/x-python",
   "name": "python",
   "nbconvert_exporter": "python",
   "pygments_lexer": "ipython3",
   "version": "3.9.6"
  }
 },
 "nbformat": 4,
 "nbformat_minor": 2
}
